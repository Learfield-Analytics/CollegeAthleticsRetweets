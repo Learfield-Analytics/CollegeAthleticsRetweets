{
  "cells": [
    {
      "cell_type": "code",
      "source": [
        "#Script to Model Retweet Rate for Tweets using characteristics of tweets as inputs\r\n",
        "#Comparison of 15 handles with highest & lowest 18-25 YO following (as % of total followers)\r\n",
        "#Import data for modeling\r\n",
        "#Handles for Twitter data have been anonymized \r\n",
        "#Features have been engineered using separate script \r\n",
        "\r\n",
        "import pandas as pd\r\n",
        "df = pd.read_csv('TWEET_EngageisY_ANON_91522.csv')"
      ],
      "outputs": [],
      "execution_count": 1,
      "metadata": {
        "gather": {
          "logged": 1663767154043
        }
      }
    },
    {
      "cell_type": "code",
      "source": [
        "#Select the 15 handles with the highest % of followers aged 18-25 \r\n",
        "#These are main athletics Handles with both FB and MBB program\r\n",
        "\r\n",
        "df_top_Handle_Anons = df.loc[(df['Handle_Anon']=='A') |\r\n",
        "(df['Handle_Anon']=='B') |\r\n",
        "(df['Handle_Anon']=='C') |\r\n",
        "(df['Handle_Anon']=='D') |\r\n",
        "(df['Handle_Anon']=='E') |\r\n",
        "(df['Handle_Anon']=='F') |\r\n",
        "(df['Handle_Anon']=='G') |\r\n",
        "(df['Handle_Anon']=='H') |\r\n",
        "(df['Handle_Anon']=='I') |\r\n",
        "(df['Handle_Anon']=='J') |\r\n",
        "(df['Handle_Anon']=='K') |\r\n",
        "(df['Handle_Anon']=='L') |\r\n",
        "(df['Handle_Anon']=='M') |\r\n",
        "(df['Handle_Anon']=='N') |\r\n",
        "(df['Handle_Anon']=='O')]"
      ],
      "outputs": [],
      "execution_count": 2,
      "metadata": {
        "jupyter": {
          "source_hidden": false,
          "outputs_hidden": false
        },
        "nteract": {
          "transient": {
            "deleting": false
          }
        },
        "gather": {
          "logged": 1663767154173
        }
      }
    },
    {
      "cell_type": "code",
      "source": [
        "#Drop Handle column for modeling\r\n",
        "\r\n",
        "df_top_Handle_Anons=df_top_Handle_Anons.drop(columns=[\r\n",
        "       'Handle_Anon'                                             \r\n",
        "       ],axis =1)"
      ],
      "outputs": [],
      "execution_count": 3,
      "metadata": {
        "jupyter": {
          "source_hidden": false,
          "outputs_hidden": false
        },
        "nteract": {
          "transient": {
            "deleting": false
          }
        },
        "gather": {
          "logged": 1663767154283
        }
      }
    },
    {
      "cell_type": "code",
      "source": [
        "#Select the 15 handles with the lowest % of followers aged 18-25 \r\n",
        "#These are main athletics Handles with both FB and MBB program\r\n",
        "\r\n",
        "df_bottom_Handle_Anons = df.loc[(df['Handle_Anon']=='P') |\r\n",
        "(df['Handle_Anon']=='Q') |\r\n",
        "(df['Handle_Anon']=='R') |\r\n",
        "(df['Handle_Anon']=='S') |\r\n",
        "(df['Handle_Anon']=='T') |\r\n",
        "(df['Handle_Anon']=='U') |\r\n",
        "(df['Handle_Anon']=='V') |\r\n",
        "(df['Handle_Anon']=='W') |\r\n",
        "(df['Handle_Anon']=='X') |\r\n",
        "(df['Handle_Anon']=='Y') | \r\n",
        "(df['Handle_Anon']=='Z') |\r\n",
        "(df['Handle_Anon']=='AA') |\r\n",
        "(df['Handle_Anon']=='AB') | \r\n",
        "(df['Handle_Anon']=='AC') |\r\n",
        "(df['Handle_Anon']=='AD')]"
      ],
      "outputs": [],
      "execution_count": 4,
      "metadata": {
        "jupyter": {
          "source_hidden": false,
          "outputs_hidden": false
        },
        "nteract": {
          "transient": {
            "deleting": false
          }
        },
        "gather": {
          "logged": 1663767154390
        }
      }
    },
    {
      "cell_type": "code",
      "source": [
        "#Drop Handle column for modeling\r\n",
        "\r\n",
        "df_bottom_Handle_Anons=df_bottom_Handle_Anons.drop(columns=[\r\n",
        "       'Handle_Anon'                                             \r\n",
        "       ],axis =1)"
      ],
      "outputs": [],
      "execution_count": 5,
      "metadata": {
        "jupyter": {
          "source_hidden": false,
          "outputs_hidden": false
        },
        "nteract": {
          "transient": {
            "deleting": false
          }
        },
        "gather": {
          "logged": 1663767154500
        }
      }
    },
    {
      "cell_type": "code",
      "source": [
        "# Select features for X variables & dependent (Y) varaible for youngest handles\r\n",
        "# Share_Rate = Retweet Rate = Retweets / Impressions\r\n",
        "\r\n",
        "X_top = df_top_Handle_Anons.drop(columns=['Share_Rate', 'Comment_Rate',\r\n",
        "       'Like_Rate', 'SCL_Rate'],axis =1)\r\n",
        "\r\n",
        "y_top = df_top_Handle_Anons['Share_Rate']"
      ],
      "outputs": [],
      "execution_count": 6,
      "metadata": {
        "jupyter": {
          "source_hidden": false,
          "outputs_hidden": false
        },
        "nteract": {
          "transient": {
            "deleting": false
          }
        },
        "gather": {
          "logged": 1663767154654
        }
      }
    },
    {
      "cell_type": "code",
      "source": [
        "# Select features for X variables & dependent (Y) varaible for oldest handles\r\n",
        "# Share_Rate = Retweet Rate = Retweets / Impressions\r\n",
        "\r\n",
        "X_bottom = df_bottom_Handle_Anons.drop(columns=['Share_Rate', 'Comment_Rate',\r\n",
        "       'Like_Rate', 'SCL_Rate'],axis =1)\r\n",
        "\r\n",
        "y_bottom = df_bottom_Handle_Anons['Share_Rate']"
      ],
      "outputs": [],
      "execution_count": 7,
      "metadata": {
        "jupyter": {
          "source_hidden": false,
          "outputs_hidden": false
        },
        "nteract": {
          "transient": {
            "deleting": false
          }
        },
        "gather": {
          "logged": 1663767154953
        }
      }
    },
    {
      "cell_type": "code",
      "source": [
        "# Run OLS model on 'youngest' handles\r\n",
        "\r\n",
        "import statsmodels.api as sm\r\n",
        "X_top = sm.add_constant(X_top) # adding a constant\r\n",
        " \r\n",
        "\r\n",
        "model_top = sm.OLS(y_top, X_top).fit()\r\n",
        "predictions = model_top.predict(X_top) \r\n",
        " \r\n",
        "print_model = model_top.summary()\r\n",
        "print(print_model)"
      ],
      "outputs": [
        {
          "output_type": "stream",
          "name": "stdout",
          "text": "                            OLS Regression Results                            \n==============================================================================\nDep. Variable:             Share_Rate   R-squared:                       0.114\nModel:                            OLS   Adj. R-squared:                  0.107\nMethod:                 Least Squares   F-statistic:                     15.86\nDate:                Wed, 21 Sep 2022   Prob (F-statistic):          5.73e-172\nTime:                        13:32:38   Log-Likelihood:                 49873.\nNo. Observations:                8594   AIC:                        -9.961e+04\nDf Residuals:                    8524   BIC:                        -9.911e+04\nDf Model:                          69                                         \nCovariance Type:            nonrobust                                         \n=================================================================================================\n                                    coef    std err          t      P>|t|      [0.025      0.975]\n-------------------------------------------------------------------------------------------------\nconst                             0.0010   4.14e-05     23.247      0.000       0.001       0.001\nVideoFlag                         0.0002    2.2e-05     10.022      0.000       0.000       0.000\nFri_to_Sunday_Flag             2.356e-05   1.66e-05      1.418      0.156      -9e-06    5.61e-05\nP5_Conference_Flag               -0.0003    1.8e-05    -14.835      0.000      -0.000      -0.000\nMonth_Sep_Oct                  2.024e-05   2.77e-05      0.731      0.465   -3.41e-05    7.45e-05\nMonth_Nov_Dec                    -0.0002   2.95e-05     -6.721      0.000      -0.000      -0.000\nMonth_Jan_Feb                    -0.0002      3e-05     -7.260      0.000      -0.000      -0.000\nMonth_Mar_Apr                  2.515e-05   3.01e-05      0.837      0.403   -3.38e-05    8.41e-05\nMonth_July_Aug                   -0.0001   2.78e-05     -4.121      0.000      -0.000   -6.01e-05\nExlaim_Mark_Count             -9.114e-05   1.15e-05     -7.937      0.000      -0.000   -6.86e-05\nQuestion_Mark_Count           -9.674e-05   3.54e-05     -2.733      0.006      -0.000   -2.74e-05\nHashtag_Count                  3.086e-05   1.07e-05      2.889      0.004    9.92e-06    5.18e-05\nMention_Count                 -1.162e-05    1.3e-05     -0.891      0.373   -3.72e-05    1.39e-05\nLine_Break_Count               8.553e-05   1.32e-05      6.460      0.000    5.96e-05       0.000\nLink_Count_v2                    -0.0001   2.01e-05     -5.060      0.000      -0.000   -6.22e-05\nWord_Count                    -2.195e-06   1.12e-06     -1.953      0.051    -4.4e-06    8.25e-09\nEmoji_Count                   -8.127e-06   4.54e-06     -1.790      0.074    -1.7e-05    7.75e-07\nSentScore_Compound             6.263e-05   2.67e-05      2.349      0.019    1.04e-05       0.000\nTotal_Verb_Perc_of_Words          0.0002   7.87e-05      2.079      0.038    9.35e-06       0.000\nTotal_Adjective_Perc_of_Words     0.0002   8.61e-05      1.835      0.067   -1.08e-05       0.000\nTotal_Adverb_Perc_of_Words        0.0003      0.000      2.598      0.009    7.35e-05       0.001\nTotal_Noun_Perc_of_Words       7.856e-05   4.75e-05      1.655      0.098   -1.45e-05       0.000\nTotal_Digit_Perc_of_Words         0.0001      0.000      1.138      0.255   -9.69e-05       0.000\nWord_GenZ_Terms_Flag           8.565e-05      0.000      0.568      0.570      -0.000       0.000\nWord_TeamName_Flag            -3.418e-05   1.93e-05     -1.772      0.076    -7.2e-05    3.63e-06\nWord_Time_Generic_Flag        -1.209e-05   1.95e-05     -0.620      0.536   -5.03e-05    2.62e-05\nWord_GameStats_Flag            2.731e-05   2.84e-05      0.961      0.337   -2.84e-05     8.3e-05\nWord_City_List_Flag           -6.949e-05   2.76e-05     -2.516      0.012      -0.000   -1.53e-05\nWord_Sport_Flag                1.678e-05   2.32e-05      0.725      0.469   -2.86e-05    6.22e-05\nWord_ampm_Flag                 2.454e-05    2.6e-05      0.943      0.346   -2.65e-05    7.55e-05\nWord_Game_Flag                -1.572e-05   2.89e-05     -0.544      0.586   -7.23e-05    4.09e-05\nWord_UnivAth_Handles_Flag     -2.691e-05   2.76e-05     -0.976      0.329   -8.09e-05    2.71e-05\nWord_Win_Flag                     0.0001   3.06e-05      4.012      0.000    6.27e-05       0.000\nWord_Coach_Flag                2.635e-05   4.38e-05      0.602      0.547   -5.95e-05       0.000\nWord_Brand_Handles_Flag       -3.411e-05   4.35e-05     -0.784      0.433      -0.000    5.11e-05\nWord_Position_Flag            -3.764e-05   5.31e-05     -0.709      0.479      -0.000    6.65e-05\nWord_UnivOther_Handles_Flag   -2.652e-05   3.12e-05     -0.850      0.395   -8.77e-05    3.46e-05\nWord_Ticket_Flag              -3.781e-05    4.1e-05     -0.921      0.357      -0.000    4.26e-05\nWord_ProLeague_Flag            3.603e-05      0.000      0.137      0.891      -0.000       0.001\nWord_ProSports_Names_Flag         0.0004      0.000      1.448      0.148      -0.000       0.001\nWord_Thanks_Flag               1.462e-06   5.02e-05      0.029      0.977   -9.69e-05    9.99e-05\nWord_Free_Flag                -2.021e-05   5.34e-05     -0.378      0.705      -0.000    8.45e-05\nWord_Award_Flag                  -0.0001   4.82e-05     -2.297      0.022      -0.000   -1.62e-05\nWord_Rank_Flag                    0.0002   9.93e-05      1.584      0.113   -3.73e-05       0.000\nWord_Birthday_Flag                0.0002      0.000      1.452      0.147   -8.02e-05       0.001\nWord_TVNetworks_Flag          -1.193e-05      0.000     -0.117      0.907      -0.000       0.000\nWord_PresentedBy_Flag          8.259e-05   7.26e-05      1.137      0.256   -5.98e-05       0.000\nWord_Year1900s_Flag             1.92e-05   8.94e-05      0.215      0.830      -0.000       0.000\nWord_Year2000s_Flag               0.0001      0.000      0.957      0.339      -0.000       0.000\nWord_Year2010s_Flag           -5.911e-05      0.000     -0.502      0.616      -0.000       0.000\nEmo_Sports_Objects_Flag       -7.007e-05   4.12e-05     -1.699      0.089      -0.000    1.08e-05\nEmo_heavyexclaimation_Flag        0.0003    4.7e-05      6.586      0.000       0.000       0.000\nEmo_animal_Flag                   0.0005   9.43e-05      5.713      0.000       0.000       0.001\nEmo_TV_Radio_Flag             -6.579e-05   8.03e-05     -0.819      0.413      -0.000    9.16e-05\nEmo_arrows_Flag                  -0.0002    4.6e-05     -4.183      0.000      -0.000      -0.000\nEmo_numbers_Flag                  0.0003   5.85e-05      4.829      0.000       0.000       0.000\nEmo_circle_Flag                   0.0003   6.57e-05      4.245      0.000       0.000       0.000\nEmo_Bar_chart_Flag               -0.0002   9.83e-05     -2.141      0.032      -0.000   -1.78e-05\nEmo_eyes_Flag                    -0.0002   5.97e-05     -3.013      0.003      -0.000   -6.29e-05\nEmo_newspaper_Flag            -6.893e-05   6.64e-05     -1.039      0.299      -0.000    6.12e-05\nEmo_muscle_Flag                  -0.0003   6.77e-05     -4.499      0.000      -0.000      -0.000\nEmo_Round_Pushpin_Flag            0.0004   8.87e-05      4.566      0.000       0.000       0.001\nEmo_rotating_light_Flag        4.851e-05   8.16e-05      0.595      0.552      -0.000       0.000\nEmo_link_Flag                 -4.496e-06   4.97e-05     -0.090      0.928      -0.000    9.29e-05\nEmo_fire_Flag                    -0.0001   7.11e-05     -1.778      0.076      -0.000     1.3e-05\nEmo_heart_Flag                    0.0001   6.16e-05      1.641      0.101   -1.97e-05       0.000\nEmo_triumph_Flag              -6.229e-05   6.38e-05     -0.977      0.329      -0.000    6.27e-05\nEmo_handgesture_Flag          -3.058e-05    2.3e-05     -1.330      0.184   -7.57e-05    1.45e-05\nEmo_vs_Flag                      -0.0002      0.000     -0.769      0.442      -0.001       0.000\nEmo_trophyring_Flag            1.594e-05   5.31e-05      0.300      0.764   -8.81e-05       0.000\n==============================================================================\nOmnibus:                     3731.035   Durbin-Watson:                   1.746\nProb(Omnibus):                  0.000   Jarque-Bera (JB):            36087.756\nSkew:                           1.826   Prob(JB):                         0.00\nKurtosis:                      12.351   Cond. No.                         906.\n==============================================================================\n\nWarnings:\n[1] Standard Errors assume that the covariance matrix of the errors is correctly specified.\n"
        }
      ],
      "execution_count": 8,
      "metadata": {
        "jupyter": {
          "source_hidden": false,
          "outputs_hidden": false
        },
        "nteract": {
          "transient": {
            "deleting": false
          }
        },
        "gather": {
          "logged": 1663767158382
        }
      }
    },
    {
      "cell_type": "code",
      "source": [
        "# Run OLS model on 'oldest' handles\r\n",
        "\r\n",
        "import statsmodels.api as sm\r\n",
        "X_bottom = sm.add_constant(X_bottom) # adding a constant\r\n",
        " \r\n",
        "\r\n",
        "model_bottom = sm.OLS(y_bottom, X_bottom).fit()\r\n",
        "predictions = model_bottom.predict(X_bottom) \r\n",
        " \r\n",
        "print_model = model_bottom.summary()\r\n",
        "print(print_model)"
      ],
      "outputs": [
        {
          "output_type": "stream",
          "name": "stdout",
          "text": "                            OLS Regression Results                            \n==============================================================================\nDep. Variable:             Share_Rate   R-squared:                       0.099\nModel:                            OLS   Adj. R-squared:                  0.093\nMethod:                 Least Squares   F-statistic:                     16.67\nDate:                Wed, 21 Sep 2022   Prob (F-statistic):          2.01e-184\nTime:                        13:32:38   Log-Likelihood:                 61423.\nNo. Observations:               10524   AIC:                        -1.227e+05\nDf Residuals:                   10454   BIC:                        -1.222e+05\nDf Model:                          69                                         \nCovariance Type:            nonrobust                                         \n=================================================================================================\n                                    coef    std err          t      P>|t|      [0.025      0.975]\n-------------------------------------------------------------------------------------------------\nconst                             0.0006   4.38e-05     14.045      0.000       0.001       0.001\nVideoFlag                         0.0002   2.02e-05     10.094      0.000       0.000       0.000\nFri_to_Sunday_Flag             6.479e-05   1.44e-05      4.490      0.000    3.65e-05    9.31e-05\nP5_Conference_Flag               -0.0002    1.8e-05    -13.792      0.000      -0.000      -0.000\nMonth_Sep_Oct                  -6.83e-05   2.46e-05     -2.776      0.006      -0.000   -2.01e-05\nMonth_Nov_Dec                    -0.0002   2.64e-05     -5.718      0.000      -0.000   -9.91e-05\nMonth_Jan_Feb                    -0.0001   2.71e-05     -4.772      0.000      -0.000   -7.61e-05\nMonth_Mar_Apr                  6.018e-05    2.7e-05      2.230      0.026    7.27e-06       0.000\nMonth_July_Aug                -5.474e-05   2.51e-05     -2.185      0.029      -0.000   -5.63e-06\nExlaim_Mark_Count              -1.34e-05   8.27e-06     -1.620      0.105   -2.96e-05    2.82e-06\nQuestion_Mark_Count              -0.0001   2.33e-05     -5.710      0.000      -0.000   -8.74e-05\nHashtag_Count                  7.327e-05   1.08e-05      6.793      0.000    5.21e-05    9.44e-05\nMention_Count                 -2.203e-05   8.85e-06     -2.491      0.013   -3.94e-05   -4.69e-06\nLine_Break_Count               7.971e-05   1.11e-05      7.153      0.000    5.79e-05       0.000\nLink_Count_v2                 -3.483e-05   1.65e-05     -2.110      0.035   -6.72e-05   -2.47e-06\nWord_Count                    -1.774e-06   9.55e-07     -1.858      0.063   -3.65e-06    9.78e-08\nEmoji_Count                   -7.546e-07   3.86e-06     -0.195      0.845   -8.32e-06    6.81e-06\nSentScore_Compound              4.08e-05   2.27e-05      1.799      0.072   -3.66e-06    8.53e-05\nTotal_Verb_Perc_of_Words          0.0003   8.02e-05      4.186      0.000       0.000       0.000\nTotal_Adjective_Perc_of_Words     0.0004   8.33e-05      4.924      0.000       0.000       0.001\nTotal_Adverb_Perc_of_Words        0.0002      0.000      1.580      0.114   -4.55e-05       0.000\nTotal_Noun_Perc_of_Words          0.0002   4.92e-05      4.457      0.000       0.000       0.000\nTotal_Digit_Perc_of_Words         0.0006      0.000      4.468      0.000       0.000       0.001\nWord_GenZ_Terms_Flag           7.203e-06      0.000      0.062      0.950      -0.000       0.000\nWord_TeamName_Flag            -5.525e-05   1.59e-05     -3.473      0.001   -8.64e-05   -2.41e-05\nWord_Time_Generic_Flag        -3.911e-05   1.66e-05     -2.357      0.018   -7.16e-05   -6.58e-06\nWord_GameStats_Flag           -9.605e-06   2.61e-05     -0.368      0.713   -6.08e-05    4.16e-05\nWord_City_List_Flag            4.588e-06   2.21e-05      0.208      0.835   -3.87e-05    4.78e-05\nWord_Sport_Flag                -3.21e-05   1.91e-05     -1.684      0.092   -6.95e-05    5.27e-06\nWord_ampm_Flag                 -7.14e-05   2.19e-05     -3.255      0.001      -0.000   -2.84e-05\nWord_Game_Flag                -2.991e-05   2.24e-05     -1.332      0.183   -7.39e-05    1.41e-05\nWord_UnivAth_Handles_Flag      9.075e-05   2.04e-05      4.452      0.000    5.08e-05       0.000\nWord_Win_Flag                     0.0001    2.7e-05      4.090      0.000    5.76e-05       0.000\nWord_Coach_Flag               -3.062e-05   3.47e-05     -0.883      0.377   -9.86e-05    3.74e-05\nWord_Brand_Handles_Flag        6.679e-05   3.03e-05      2.204      0.028    7.39e-06       0.000\nWord_Position_Flag             9.266e-07   4.37e-05      0.021      0.983   -8.48e-05    8.66e-05\nWord_UnivOther_Handles_Flag    7.603e-05   2.85e-05      2.668      0.008    2.02e-05       0.000\nWord_Ticket_Flag              -9.524e-05   3.04e-05     -3.132      0.002      -0.000   -3.56e-05\nWord_ProLeague_Flag               0.0001      0.000      0.662      0.508      -0.000       0.000\nWord_ProSports_Names_Flag     -6.238e-05      0.000     -0.355      0.723      -0.000       0.000\nWord_Thanks_Flag              -7.604e-05   4.18e-05     -1.818      0.069      -0.000    5.94e-06\nWord_Free_Flag                 3.839e-05   4.56e-05      0.841      0.400   -5.11e-05       0.000\nWord_Award_Flag                3.634e-05   4.33e-05      0.839      0.402   -4.86e-05       0.000\nWord_Rank_Flag                    0.0002   9.19e-05      1.905      0.057   -5.04e-06       0.000\nWord_Birthday_Flag            -6.821e-05      0.000     -0.468      0.640      -0.000       0.000\nWord_TVNetworks_Flag          -2.975e-05   6.15e-05     -0.484      0.628      -0.000    9.07e-05\nWord_PresentedBy_Flag         -4.567e-05   7.17e-05     -0.637      0.524      -0.000    9.48e-05\nWord_Year1900s_Flag               0.0002    9.5e-05      2.197      0.028    2.25e-05       0.000\nWord_Year2000s_Flag               0.0005      0.000      3.927      0.000       0.000       0.001\nWord_Year2010s_Flag              -0.0001      0.000     -0.940      0.347      -0.000       0.000\nEmo_Sports_Objects_Flag        2.284e-05    3.2e-05      0.714      0.475   -3.99e-05    8.56e-05\nEmo_heavyexclaimation_Flag        0.0002    3.4e-05      4.899      0.000    9.99e-05       0.000\nEmo_animal_Flag                5.512e-05   3.01e-05      1.832      0.067   -3.87e-06       0.000\nEmo_TV_Radio_Flag              2.748e-05   6.46e-05      0.425      0.671   -9.92e-05       0.000\nEmo_arrows_Flag               -9.813e-05   3.19e-05     -3.080      0.002      -0.000   -3.57e-05\nEmo_numbers_Flag              -1.431e-05   5.09e-05     -0.281      0.779      -0.000    8.54e-05\nEmo_circle_Flag                6.868e-05   9.02e-05      0.761      0.446      -0.000       0.000\nEmo_Bar_chart_Flag            -1.911e-05      0.000     -0.175      0.861      -0.000       0.000\nEmo_eyes_Flag                  6.009e-05   4.45e-05      1.351      0.177   -2.71e-05       0.000\nEmo_newspaper_Flag            -8.993e-05    4.4e-05     -2.044      0.041      -0.000    -3.7e-06\nEmo_muscle_Flag                2.647e-06   5.83e-05      0.045      0.964      -0.000       0.000\nEmo_Round_Pushpin_Flag        -3.576e-05   5.87e-05     -0.610      0.542      -0.000    7.92e-05\nEmo_rotating_light_Flag         8.83e-05   5.91e-05      1.494      0.135   -2.76e-05       0.000\nEmo_link_Flag                     0.0001   5.94e-05      2.093      0.036    7.87e-06       0.000\nEmo_fire_Flag                  7.467e-06   7.81e-05      0.096      0.924      -0.000       0.000\nEmo_heart_Flag                    0.0001   5.36e-05      2.784      0.005    4.41e-05       0.000\nEmo_triumph_Flag                  0.0001   9.74e-05      1.103      0.270   -8.35e-05       0.000\nEmo_handgesture_Flag          -6.755e-05   2.35e-05     -2.878      0.004      -0.000   -2.15e-05\nEmo_vs_Flag                    1.443e-05      0.000      0.137      0.891      -0.000       0.000\nEmo_trophyring_Flag               0.0001   4.68e-05      2.758      0.006    3.74e-05       0.000\n==============================================================================\nOmnibus:                    11905.902   Durbin-Watson:                   1.715\nProb(Omnibus):                  0.000   Jarque-Bera (JB):          2799557.356\nSkew:                           5.517   Prob(JB):                         0.00\nKurtosis:                      82.137   Cond. No.                         728.\n==============================================================================\n\nWarnings:\n[1] Standard Errors assume that the covariance matrix of the errors is correctly specified.\n"
        }
      ],
      "execution_count": 9,
      "metadata": {
        "jupyter": {
          "source_hidden": false,
          "outputs_hidden": false
        },
        "nteract": {
          "transient": {
            "deleting": false
          }
        },
        "gather": {
          "logged": 1663767158564
        }
      }
    }
  ],
  "metadata": {
    "kernelspec": {
      "name": "python38-azureml",
      "language": "python",
      "display_name": "Python 3.8 - AzureML"
    },
    "language_info": {
      "name": "python",
      "version": "3.8.5",
      "mimetype": "text/x-python",
      "codemirror_mode": {
        "name": "ipython",
        "version": 3
      },
      "pygments_lexer": "ipython3",
      "nbconvert_exporter": "python",
      "file_extension": ".py"
    },
    "kernel_info": {
      "name": "python38-azureml"
    },
    "microsoft": {
      "host": {
        "AzureML": {
          "notebookHasBeenCompleted": true
        }
      }
    },
    "nteract": {
      "version": "nteract-front-end@1.0.0"
    }
  },
  "nbformat": 4,
  "nbformat_minor": 2
}